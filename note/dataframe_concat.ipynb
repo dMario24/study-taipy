{
 "cells": [
  {
   "cell_type": "code",
   "execution_count": 15,
   "id": "initial_id",
   "metadata": {
    "collapsed": true,
    "ExecuteTime": {
     "end_time": "2023-09-11T08:23:38.369648Z",
     "start_time": "2023-09-11T08:23:38.323509Z"
    }
   },
   "outputs": [],
   "source": [
    "import pandas as pd"
   ]
  },
  {
   "cell_type": "code",
   "execution_count": 16,
   "outputs": [],
   "source": [
    "dataframe = pd.DataFrame({\"Text\": [''],\n",
    "                          \"Score Pos\": [0.33],\n",
    "                          \"Score Neu\": [0.33],\n",
    "                          \"Score Neg\": [0.33],\n",
    "                          \"Overall\": [0]})"
   ],
   "metadata": {
    "collapsed": false,
    "ExecuteTime": {
     "end_time": "2023-09-11T08:23:38.932599Z",
     "start_time": "2023-09-11T08:23:38.925685Z"
    }
   },
   "id": "f05004159a0c06a6"
  },
  {
   "cell_type": "code",
   "execution_count": 17,
   "outputs": [
    {
     "data": {
      "text/plain": "  Text  Score Pos  Score Neu  Score Neg  Overall\n0            0.33       0.33       0.33        0",
      "text/html": "<div>\n<style scoped>\n    .dataframe tbody tr th:only-of-type {\n        vertical-align: middle;\n    }\n\n    .dataframe tbody tr th {\n        vertical-align: top;\n    }\n\n    .dataframe thead th {\n        text-align: right;\n    }\n</style>\n<table border=\"1\" class=\"dataframe\">\n  <thead>\n    <tr style=\"text-align: right;\">\n      <th></th>\n      <th>Text</th>\n      <th>Score Pos</th>\n      <th>Score Neu</th>\n      <th>Score Neg</th>\n      <th>Overall</th>\n    </tr>\n  </thead>\n  <tbody>\n    <tr>\n      <th>0</th>\n      <td></td>\n      <td>0.33</td>\n      <td>0.33</td>\n      <td>0.33</td>\n      <td>0</td>\n    </tr>\n  </tbody>\n</table>\n</div>"
     },
     "execution_count": 17,
     "metadata": {},
     "output_type": "execute_result"
    }
   ],
   "source": [
    "dataframe"
   ],
   "metadata": {
    "collapsed": false,
    "ExecuteTime": {
     "end_time": "2023-09-11T08:23:40.378767Z",
     "start_time": "2023-09-11T08:23:40.375048Z"
    }
   },
   "id": "251a0d320d976225"
  },
  {
   "cell_type": "code",
   "execution_count": 18,
   "outputs": [],
   "source": [
    "data = {'Text': 'Original text', 'Score Pos': 0.096239194, 'Score Neu': 0.76166874, 'Score Neg': 0.14209215, 'Overall': -0.04585296}"
   ],
   "metadata": {
    "collapsed": false,
    "ExecuteTime": {
     "end_time": "2023-09-11T08:23:43.153247Z",
     "start_time": "2023-09-11T08:23:43.145099Z"
    }
   },
   "id": "4e724df8dc6be000"
  },
  {
   "cell_type": "code",
   "execution_count": 19,
   "outputs": [],
   "source": [
    "data_df = pd.DataFrame(data, index=[0])"
   ],
   "metadata": {
    "collapsed": false,
    "ExecuteTime": {
     "end_time": "2023-09-11T08:23:47.917608Z",
     "start_time": "2023-09-11T08:23:47.911878Z"
    }
   },
   "id": "45328a107b45646e"
  },
  {
   "cell_type": "code",
   "execution_count": 20,
   "outputs": [
    {
     "data": {
      "text/plain": "            Text  Score Pos  Score Neu  Score Neg   Overall\n0  Original text   0.096239   0.761669   0.142092 -0.045853",
      "text/html": "<div>\n<style scoped>\n    .dataframe tbody tr th:only-of-type {\n        vertical-align: middle;\n    }\n\n    .dataframe tbody tr th {\n        vertical-align: top;\n    }\n\n    .dataframe thead th {\n        text-align: right;\n    }\n</style>\n<table border=\"1\" class=\"dataframe\">\n  <thead>\n    <tr style=\"text-align: right;\">\n      <th></th>\n      <th>Text</th>\n      <th>Score Pos</th>\n      <th>Score Neu</th>\n      <th>Score Neg</th>\n      <th>Overall</th>\n    </tr>\n  </thead>\n  <tbody>\n    <tr>\n      <th>0</th>\n      <td>Original text</td>\n      <td>0.096239</td>\n      <td>0.761669</td>\n      <td>0.142092</td>\n      <td>-0.045853</td>\n    </tr>\n  </tbody>\n</table>\n</div>"
     },
     "execution_count": 20,
     "metadata": {},
     "output_type": "execute_result"
    }
   ],
   "source": [
    "data_df"
   ],
   "metadata": {
    "collapsed": false,
    "ExecuteTime": {
     "end_time": "2023-09-11T08:23:52.619192Z",
     "start_time": "2023-09-11T08:23:52.611648Z"
    }
   },
   "id": "10e8da8c92996a65"
  },
  {
   "cell_type": "code",
   "execution_count": 22,
   "outputs": [
    {
     "data": {
      "text/plain": "  Text  Score Pos  Score Neu  Score Neg  Overall\n0            0.33       0.33       0.33        0",
      "text/html": "<div>\n<style scoped>\n    .dataframe tbody tr th:only-of-type {\n        vertical-align: middle;\n    }\n\n    .dataframe tbody tr th {\n        vertical-align: top;\n    }\n\n    .dataframe thead th {\n        text-align: right;\n    }\n</style>\n<table border=\"1\" class=\"dataframe\">\n  <thead>\n    <tr style=\"text-align: right;\">\n      <th></th>\n      <th>Text</th>\n      <th>Score Pos</th>\n      <th>Score Neu</th>\n      <th>Score Neg</th>\n      <th>Overall</th>\n    </tr>\n  </thead>\n  <tbody>\n    <tr>\n      <th>0</th>\n      <td></td>\n      <td>0.33</td>\n      <td>0.33</td>\n      <td>0.33</td>\n      <td>0</td>\n    </tr>\n  </tbody>\n</table>\n</div>"
     },
     "execution_count": 22,
     "metadata": {},
     "output_type": "execute_result"
    }
   ],
   "source": [
    "copy_df = dataframe.copy()\n",
    "copy_df"
   ],
   "metadata": {
    "collapsed": false,
    "ExecuteTime": {
     "end_time": "2023-09-11T08:24:18.391471Z",
     "start_time": "2023-09-11T08:24:18.383454Z"
    }
   },
   "id": "870c22fa4afb1600"
  },
  {
   "cell_type": "code",
   "execution_count": 23,
   "outputs": [
    {
     "data": {
      "text/plain": "            Text  Score Pos  Score Neu  Score Neg   Overall\n0                  0.330000   0.330000   0.330000  0.000000\n0  Original text   0.096239   0.761669   0.142092 -0.045853",
      "text/html": "<div>\n<style scoped>\n    .dataframe tbody tr th:only-of-type {\n        vertical-align: middle;\n    }\n\n    .dataframe tbody tr th {\n        vertical-align: top;\n    }\n\n    .dataframe thead th {\n        text-align: right;\n    }\n</style>\n<table border=\"1\" class=\"dataframe\">\n  <thead>\n    <tr style=\"text-align: right;\">\n      <th></th>\n      <th>Text</th>\n      <th>Score Pos</th>\n      <th>Score Neu</th>\n      <th>Score Neg</th>\n      <th>Overall</th>\n    </tr>\n  </thead>\n  <tbody>\n    <tr>\n      <th>0</th>\n      <td></td>\n      <td>0.330000</td>\n      <td>0.330000</td>\n      <td>0.330000</td>\n      <td>0.000000</td>\n    </tr>\n    <tr>\n      <th>0</th>\n      <td>Original text</td>\n      <td>0.096239</td>\n      <td>0.761669</td>\n      <td>0.142092</td>\n      <td>-0.045853</td>\n    </tr>\n  </tbody>\n</table>\n</div>"
     },
     "execution_count": 23,
     "metadata": {},
     "output_type": "execute_result"
    }
   ],
   "source": [
    "df = pd.concat([copy_df, data_df])\n",
    "df"
   ],
   "metadata": {
    "collapsed": false,
    "ExecuteTime": {
     "end_time": "2023-09-11T08:24:34.804174Z",
     "start_time": "2023-09-11T08:24:34.792579Z"
    }
   },
   "id": "36c184012beb0f15"
  },
  {
   "cell_type": "code",
   "execution_count": 10,
   "outputs": [],
   "source": [
    "df = pd.concat([dataframe, data_df])"
   ],
   "metadata": {
    "collapsed": false,
    "ExecuteTime": {
     "end_time": "2023-09-11T08:19:25.285186Z",
     "start_time": "2023-09-11T08:19:25.278315Z"
    }
   },
   "id": "68d80c3b03295216"
  },
  {
   "cell_type": "code",
   "execution_count": 11,
   "outputs": [
    {
     "data": {
      "text/plain": "            Text  Score Pos  Score Neu  Score Neg   Overall\n0                  0.330000   0.330000   0.330000  0.000000\n0  Original text   0.096239   0.761669   0.142092 -0.045853",
      "text/html": "<div>\n<style scoped>\n    .dataframe tbody tr th:only-of-type {\n        vertical-align: middle;\n    }\n\n    .dataframe tbody tr th {\n        vertical-align: top;\n    }\n\n    .dataframe thead th {\n        text-align: right;\n    }\n</style>\n<table border=\"1\" class=\"dataframe\">\n  <thead>\n    <tr style=\"text-align: right;\">\n      <th></th>\n      <th>Text</th>\n      <th>Score Pos</th>\n      <th>Score Neu</th>\n      <th>Score Neg</th>\n      <th>Overall</th>\n    </tr>\n  </thead>\n  <tbody>\n    <tr>\n      <th>0</th>\n      <td></td>\n      <td>0.330000</td>\n      <td>0.330000</td>\n      <td>0.330000</td>\n      <td>0.000000</td>\n    </tr>\n    <tr>\n      <th>0</th>\n      <td>Original text</td>\n      <td>0.096239</td>\n      <td>0.761669</td>\n      <td>0.142092</td>\n      <td>-0.045853</td>\n    </tr>\n  </tbody>\n</table>\n</div>"
     },
     "execution_count": 11,
     "metadata": {},
     "output_type": "execute_result"
    }
   ],
   "source": [
    "df"
   ],
   "metadata": {
    "collapsed": false,
    "ExecuteTime": {
     "end_time": "2023-09-11T08:19:27.827394Z",
     "start_time": "2023-09-11T08:19:27.818305Z"
    }
   },
   "id": "4f2a10ddf03f9639"
  },
  {
   "cell_type": "code",
   "execution_count": 12,
   "outputs": [],
   "source": [
    "df = pd.concat([df, data_df])"
   ],
   "metadata": {
    "collapsed": false,
    "ExecuteTime": {
     "end_time": "2023-09-11T08:19:51.379425Z",
     "start_time": "2023-09-11T08:19:51.371226Z"
    }
   },
   "id": "143ad2007f267d54"
  },
  {
   "cell_type": "code",
   "execution_count": 13,
   "outputs": [
    {
     "data": {
      "text/plain": "            Text  Score Pos  Score Neu  Score Neg   Overall\n0                  0.330000   0.330000   0.330000  0.000000\n0  Original text   0.096239   0.761669   0.142092 -0.045853\n0  Original text   0.096239   0.761669   0.142092 -0.045853",
      "text/html": "<div>\n<style scoped>\n    .dataframe tbody tr th:only-of-type {\n        vertical-align: middle;\n    }\n\n    .dataframe tbody tr th {\n        vertical-align: top;\n    }\n\n    .dataframe thead th {\n        text-align: right;\n    }\n</style>\n<table border=\"1\" class=\"dataframe\">\n  <thead>\n    <tr style=\"text-align: right;\">\n      <th></th>\n      <th>Text</th>\n      <th>Score Pos</th>\n      <th>Score Neu</th>\n      <th>Score Neg</th>\n      <th>Overall</th>\n    </tr>\n  </thead>\n  <tbody>\n    <tr>\n      <th>0</th>\n      <td></td>\n      <td>0.330000</td>\n      <td>0.330000</td>\n      <td>0.330000</td>\n      <td>0.000000</td>\n    </tr>\n    <tr>\n      <th>0</th>\n      <td>Original text</td>\n      <td>0.096239</td>\n      <td>0.761669</td>\n      <td>0.142092</td>\n      <td>-0.045853</td>\n    </tr>\n    <tr>\n      <th>0</th>\n      <td>Original text</td>\n      <td>0.096239</td>\n      <td>0.761669</td>\n      <td>0.142092</td>\n      <td>-0.045853</td>\n    </tr>\n  </tbody>\n</table>\n</div>"
     },
     "execution_count": 13,
     "metadata": {},
     "output_type": "execute_result"
    }
   ],
   "source": [
    "df"
   ],
   "metadata": {
    "collapsed": false,
    "ExecuteTime": {
     "end_time": "2023-09-11T08:19:52.641165Z",
     "start_time": "2023-09-11T08:19:52.629484Z"
    }
   },
   "id": "5cb0878c70ccd5d0"
  },
  {
   "cell_type": "code",
   "execution_count": 14,
   "outputs": [
    {
     "data": {
      "text/plain": "            Text  Score Pos  Score Neu  Score Neg   Overall\n0                  0.330000   0.330000   0.330000  0.000000\n1  Original text   0.096239   0.761669   0.142092 -0.045853\n2  Original text   0.096239   0.761669   0.142092 -0.045853\n3  Original text   0.096239   0.761669   0.142092 -0.045853",
      "text/html": "<div>\n<style scoped>\n    .dataframe tbody tr th:only-of-type {\n        vertical-align: middle;\n    }\n\n    .dataframe tbody tr th {\n        vertical-align: top;\n    }\n\n    .dataframe thead th {\n        text-align: right;\n    }\n</style>\n<table border=\"1\" class=\"dataframe\">\n  <thead>\n    <tr style=\"text-align: right;\">\n      <th></th>\n      <th>Text</th>\n      <th>Score Pos</th>\n      <th>Score Neu</th>\n      <th>Score Neg</th>\n      <th>Overall</th>\n    </tr>\n  </thead>\n  <tbody>\n    <tr>\n      <th>0</th>\n      <td></td>\n      <td>0.330000</td>\n      <td>0.330000</td>\n      <td>0.330000</td>\n      <td>0.000000</td>\n    </tr>\n    <tr>\n      <th>1</th>\n      <td>Original text</td>\n      <td>0.096239</td>\n      <td>0.761669</td>\n      <td>0.142092</td>\n      <td>-0.045853</td>\n    </tr>\n    <tr>\n      <th>2</th>\n      <td>Original text</td>\n      <td>0.096239</td>\n      <td>0.761669</td>\n      <td>0.142092</td>\n      <td>-0.045853</td>\n    </tr>\n    <tr>\n      <th>3</th>\n      <td>Original text</td>\n      <td>0.096239</td>\n      <td>0.761669</td>\n      <td>0.142092</td>\n      <td>-0.045853</td>\n    </tr>\n  </tbody>\n</table>\n</div>"
     },
     "execution_count": 14,
     "metadata": {},
     "output_type": "execute_result"
    }
   ],
   "source": [
    "df = pd.concat([df, data_df], ignore_index=True)\n",
    "df"
   ],
   "metadata": {
    "collapsed": false,
    "ExecuteTime": {
     "end_time": "2023-09-11T08:21:56.311794Z",
     "start_time": "2023-09-11T08:21:56.294565Z"
    }
   },
   "id": "c4ad1f73416543e5"
  },
  {
   "cell_type": "code",
   "execution_count": null,
   "outputs": [],
   "source": [],
   "metadata": {
    "collapsed": false
   },
   "id": "48dfe71e598592f0"
  }
 ],
 "metadata": {
  "kernelspec": {
   "display_name": "Python 3",
   "language": "python",
   "name": "python3"
  },
  "language_info": {
   "codemirror_mode": {
    "name": "ipython",
    "version": 2
   },
   "file_extension": ".py",
   "mimetype": "text/x-python",
   "name": "python",
   "nbconvert_exporter": "python",
   "pygments_lexer": "ipython2",
   "version": "2.7.6"
  }
 },
 "nbformat": 4,
 "nbformat_minor": 5
}
